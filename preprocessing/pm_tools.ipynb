{
 "cells": [
  {
   "cell_type": "code",
   "execution_count": 1,
   "id": "24233b67",
   "metadata": {},
   "outputs": [],
   "source": [
    "# imports the necessary requirements\n",
    "from langchain_openai import ChatOpenAI\n",
    "import pm4py\n",
    "import duckdb\n",
    "import os\n",
    "from crewai import Agent, Task, Crew\n",
    "# Importing crewAI tools\n",
    "from crewai_tools import (\n",
    "    DirectoryReadTool,\n",
    "    FileReadTool,\n",
    "    SerperDevTool,\n",
    "    WebsiteSearchTool\n",
    ")\n",
    "#import pickle"
   ]
  },
  {
   "cell_type": "code",
   "execution_count": 2,
   "id": "af3cee42",
   "metadata": {},
   "outputs": [
    {
     "ename": "FileNotFoundError",
     "evalue": "[Errno 2] No such file or directory: 'api_key.txt'",
     "output_type": "error",
     "traceback": [
      "\u001b[1;31m---------------------------------------------------------------------------\u001b[0m",
      "\u001b[1;31mFileNotFoundError\u001b[0m                         Traceback (most recent call last)",
      "Cell \u001b[1;32mIn[2], line 2\u001b[0m\n\u001b[0;32m      1\u001b[0m \u001b[38;5;66;03m# sets the API key (always needed!)\u001b[39;00m\n\u001b[1;32m----> 2\u001b[0m os\u001b[38;5;241m.\u001b[39menviron[\u001b[38;5;124m\"\u001b[39m\u001b[38;5;124mOPENAI_API_KEY\u001b[39m\u001b[38;5;124m\"\u001b[39m] \u001b[38;5;241m=\u001b[39m \u001b[38;5;28mopen\u001b[39m(\u001b[38;5;124m\"\u001b[39m\u001b[38;5;124mapi_key.txt\u001b[39m\u001b[38;5;124m\"\u001b[39m, \u001b[38;5;124m\"\u001b[39m\u001b[38;5;124mr\u001b[39m\u001b[38;5;124m\"\u001b[39m)\u001b[38;5;241m.\u001b[39mread()\n\u001b[0;32m      4\u001b[0m \u001b[38;5;66;03m# sets the address of the APIs and the required model\u001b[39;00m\n\u001b[0;32m      5\u001b[0m \n\u001b[0;32m      6\u001b[0m \u001b[38;5;66;03m# DeepInfra Qwen2-7B-Instruct\u001b[39;00m\n\u001b[0;32m      7\u001b[0m \u001b[38;5;66;03m#llm = ChatOpenAI(model=\"Qwen/Qwen2-7B-Instruct\", base_url=\"https://api.deepinfra.com/v1/openai/\")\u001b[39;00m\n\u001b[0;32m      8\u001b[0m \n\u001b[0;32m      9\u001b[0m \u001b[38;5;66;03m# OpenAI's GPT-4o Mini model \u001b[39;00m\n\u001b[0;32m     10\u001b[0m llm \u001b[38;5;241m=\u001b[39m ChatOpenAI(model\u001b[38;5;241m=\u001b[39m\u001b[38;5;124m\"\u001b[39m\u001b[38;5;124mgpt-4o-mini\u001b[39m\u001b[38;5;124m\"\u001b[39m, base_url\u001b[38;5;241m=\u001b[39m\u001b[38;5;124m\"\u001b[39m\u001b[38;5;124mhttps://api.openai.com/v1\u001b[39m\u001b[38;5;124m\"\u001b[39m)\n",
      "File \u001b[1;32mc:\\Users\\clovi\\anaconda3\\Lib\\site-packages\\IPython\\core\\interactiveshell.py:324\u001b[0m, in \u001b[0;36m_modified_open\u001b[1;34m(file, *args, **kwargs)\u001b[0m\n\u001b[0;32m    317\u001b[0m \u001b[38;5;28;01mif\u001b[39;00m file \u001b[38;5;129;01min\u001b[39;00m {\u001b[38;5;241m0\u001b[39m, \u001b[38;5;241m1\u001b[39m, \u001b[38;5;241m2\u001b[39m}:\n\u001b[0;32m    318\u001b[0m     \u001b[38;5;28;01mraise\u001b[39;00m \u001b[38;5;167;01mValueError\u001b[39;00m(\n\u001b[0;32m    319\u001b[0m         \u001b[38;5;124mf\u001b[39m\u001b[38;5;124m\"\u001b[39m\u001b[38;5;124mIPython won\u001b[39m\u001b[38;5;124m'\u001b[39m\u001b[38;5;124mt let you open fd=\u001b[39m\u001b[38;5;132;01m{\u001b[39;00mfile\u001b[38;5;132;01m}\u001b[39;00m\u001b[38;5;124m by default \u001b[39m\u001b[38;5;124m\"\u001b[39m\n\u001b[0;32m    320\u001b[0m         \u001b[38;5;124m\"\u001b[39m\u001b[38;5;124mas it is likely to crash IPython. If you know what you are doing, \u001b[39m\u001b[38;5;124m\"\u001b[39m\n\u001b[0;32m    321\u001b[0m         \u001b[38;5;124m\"\u001b[39m\u001b[38;5;124myou can use builtins\u001b[39m\u001b[38;5;124m'\u001b[39m\u001b[38;5;124m open.\u001b[39m\u001b[38;5;124m\"\u001b[39m\n\u001b[0;32m    322\u001b[0m     )\n\u001b[1;32m--> 324\u001b[0m \u001b[38;5;28;01mreturn\u001b[39;00m io_open(file, \u001b[38;5;241m*\u001b[39margs, \u001b[38;5;241m*\u001b[39m\u001b[38;5;241m*\u001b[39mkwargs)\n",
      "\u001b[1;31mFileNotFoundError\u001b[0m: [Errno 2] No such file or directory: 'api_key.txt'"
     ]
    }
   ],
   "source": [
    "# sets the API key (always needed!)\n",
    "os.environ[\"OPENAI_API_KEY\"] = open(\"api_key.txt\", \"r\").read()\n",
    "\n",
    "# sets the address of the APIs and the required model\n",
    "\n",
    "# DeepInfra Qwen2-7B-Instruct\n",
    "#llm = ChatOpenAI(model=\"Qwen/Qwen2-7B-Instruct\", base_url=\"https://api.deepinfra.com/v1/openai/\")\n",
    "\n",
    "# OpenAI's GPT-4o Mini model \n",
    "llm = ChatOpenAI(model=\"gpt-4o-mini\", base_url=\"https://api.openai.com/v1\")\n",
    "\n",
    "# OpenAI's GPT-3.5-turbo\n",
    "#llm = ChatOpenAI(model=\"gpt-3.5-turbo\", base_url=\"https://api.openai.com/v1\")"
   ]
  },
  {
   "cell_type": "code",
   "execution_count": 3,
   "id": "9a1b5a9f",
   "metadata": {},
   "outputs": [
    {
     "data": {
      "application/vnd.jupyter.widget-view+json": {
       "model_id": "79894f735bc141308554bcf20a613446",
       "version_major": 2,
       "version_minor": 0
      },
      "text/plain": [
       "parsing log, completed traces ::   0%|          | 0/5 [00:00<?, ?it/s]"
      ]
     },
     "metadata": {},
     "output_type": "display_data"
    }
   ],
   "source": [
    "# reads the event log in-memory using pm4py\n",
    "log = pm4py.read_xes(\"log02_06.xes\")\n",
    "\n",
    "\n",
    "# computes the DFG abstraction\n",
    "dfg_abstraction = pm4py.llm.abstract_dfg(log)"
   ]
  },
  {
   "cell_type": "code",
   "execution_count": 4,
   "id": "be29e8d9",
   "metadata": {},
   "outputs": [
    {
     "name": "stderr",
     "output_type": "stream",
     "text": [
      "Warning: Could not load \"C:\\Users\\clovi\\anaconda3\\Library\\bin\\gvplugin_pango.dll\" - It was found, so perhaps one of its dependents was not.  Try ldd.\n",
      "Warning: Could not load \"C:\\Users\\clovi\\anaconda3\\Library\\bin\\gvplugin_pango.dll\" - It was found, so perhaps one of its dependents was not.  Try ldd.\n",
      "Warning: Could not load \"C:\\Users\\clovi\\anaconda3\\Library\\bin\\gvplugin_pango.dll\" - It was found, so perhaps one of its dependents was not.  Try ldd.\n",
      "Warning: no value for width of non-ASCII character 226. Falling back to width of space character\n",
      "Warning: Could not load \"C:\\Users\\clovi\\anaconda3\\Library\\bin\\gvplugin_pango.dll\" - It was found, so perhaps one of its dependents was not.  Try ldd.\n",
      "Warning: Could not load \"C:\\Users\\clovi\\anaconda3\\Library\\bin\\gvplugin_pango.dll\" - It was found, so perhaps one of its dependents was not.  Try ldd.\n"
     ]
    },
    {
     "data": {
      "image/png": "[encoded data removed]",
      "text/plain": [
       "<IPython.core.display.Image object>"
      ]
     },
     "metadata": {},
     "output_type": "display_data"
    }
   ],
   "source": [
    "\n",
    "from pm4py.visualization.dfg import visualizer as dfg_visualizer\n",
    "\n",
    "performance_dfg, start_activities, end_activities = pm4py.discover_performance_dfg(log)\n",
    "pm4py.view_performance_dfg(performance_dfg, start_activities, end_activities)"
   ]
  },
  {
   "cell_type": "code",
   "execution_count": 5,
   "id": "6f4095c1",
   "metadata": {},
   "outputs": [
    {
     "name": "stdout",
     "output_type": "stream",
     "text": [
      "If I have a process with flow:\n",
      "\n",
      "Triage Ticket -> Assign to Level-1 Agent ( frequency = 5  performance = 1320.000 )\n",
      "Resolve Ticket -> Close Ticket ( frequency = 5  performance = 1260.000 )\n",
      "Receive Ticket -> Triage Ticket ( frequency = 5  performance = 1080.000 )\n",
      "Investigate Issue -> Resolve Ticket ( frequency = 5  performance = 42120.000 )\n",
      "Assign to Level-1 Agent -> Investigate Issue ( frequency = 4  performance = 4125.000 )\n",
      "Escalate to Level-2 Agent -> Investigate Issue ( frequency = 2  performance = 54900.000 )\n",
      "Investigate Issue -> Escalate to Level-2 Agent ( frequency = 1  performance = 3000.000 )\n",
      "Assign to Level-1 Agent -> Escalate to Level-2 Agent ( frequency = 1  performance = 9000.000 )\n",
      "\n",
      "\n",
      "\n"
     ]
    }
   ],
   "source": [
    "print(dfg_abstraction)"
   ]
  },
  {
   "cell_type": "code",
   "execution_count": 6,
   "id": "925310a0",
   "metadata": {},
   "outputs": [],
   "source": [
    "# 2. Estatísticas gerais\n",
    "from pm4py.stats import (\n",
    "    get_start_activities,\n",
    "    get_end_activities,\n",
    "    get_event_attributes,\n",
    "    get_trace_attributes,\n",
    "    get_event_attribute_values,\n",
    "    get_trace_attribute_values,\n",
    "    get_variants,\n",
    "    get_all_case_durations,\n",
    "    get_cycle_time\n",
    ")"
   ]
  },
  {
   "cell_type": "code",
   "execution_count": null,
   "id": "55e8e0bb",
   "metadata": {},
   "outputs": [
    {
     "name": "stdout",
     "output_type": "stream",
     "text": [
      "→ Duração (s): min=4800, max=176700, média=73440\n"
     ]
    },
    {
     "ename": "AttributeError",
     "evalue": "'str' object has no attribute 'attributes'",
     "output_type": "error",
     "traceback": [
      "\u001b[1;31m---------------------------------------------------------------------------\u001b[0m",
      "\u001b[1;31mAttributeError\u001b[0m                            Traceback (most recent call last)",
      "Cell \u001b[1;32mIn[22], line 11\u001b[0m\n\u001b[0;32m      8\u001b[0m     case_durs \u001b[38;5;241m=\u001b[39m durations\n\u001b[0;32m      9\u001b[0m \u001b[38;5;28;01melse\u001b[39;00m:\n\u001b[0;32m     10\u001b[0m     \u001b[38;5;66;03m# extrai os IDs dos traces (assume atributo 'concept:name')\u001b[39;00m\n\u001b[1;32m---> 11\u001b[0m     case_ids \u001b[38;5;241m=\u001b[39m [trace\u001b[38;5;241m.\u001b[39mattributes\u001b[38;5;241m.\u001b[39mget(\u001b[38;5;124m\"\u001b[39m\u001b[38;5;124mconcept:name\u001b[39m\u001b[38;5;124m\"\u001b[39m, \u001b[38;5;124mf\u001b[39m\u001b[38;5;124m\"\u001b[39m\u001b[38;5;124mtrace_\u001b[39m\u001b[38;5;132;01m{\u001b[39;00mi\u001b[38;5;132;01m}\u001b[39;00m\u001b[38;5;124m\"\u001b[39m) \n\u001b[0;32m     12\u001b[0m                 \u001b[38;5;28;01mfor\u001b[39;00m i, trace \u001b[38;5;129;01min\u001b[39;00m \u001b[38;5;28menumerate\u001b[39m(log)]\n\u001b[0;32m     13\u001b[0m     case_durs \u001b[38;5;241m=\u001b[39m \u001b[38;5;28mlist\u001b[39m(\u001b[38;5;28mzip\u001b[39m(case_ids, durations))\n\u001b[0;32m     15\u001b[0m \u001b[38;5;66;03m# 4. Ordena por duração (descendente)\u001b[39;00m\n",
      "Cell \u001b[1;32mIn[22], line 11\u001b[0m, in \u001b[0;36m<listcomp>\u001b[1;34m(.0)\u001b[0m\n\u001b[0;32m      8\u001b[0m     case_durs \u001b[38;5;241m=\u001b[39m durations\n\u001b[0;32m      9\u001b[0m \u001b[38;5;28;01melse\u001b[39;00m:\n\u001b[0;32m     10\u001b[0m     \u001b[38;5;66;03m# extrai os IDs dos traces (assume atributo 'concept:name')\u001b[39;00m\n\u001b[1;32m---> 11\u001b[0m     case_ids \u001b[38;5;241m=\u001b[39m [trace\u001b[38;5;241m.\u001b[39mattributes\u001b[38;5;241m.\u001b[39mget(\u001b[38;5;124m\"\u001b[39m\u001b[38;5;124mconcept:name\u001b[39m\u001b[38;5;124m\"\u001b[39m, \u001b[38;5;124mf\u001b[39m\u001b[38;5;124m\"\u001b[39m\u001b[38;5;124mtrace_\u001b[39m\u001b[38;5;132;01m{\u001b[39;00mi\u001b[38;5;132;01m}\u001b[39;00m\u001b[38;5;124m\"\u001b[39m) \n\u001b[0;32m     12\u001b[0m                 \u001b[38;5;28;01mfor\u001b[39;00m i, trace \u001b[38;5;129;01min\u001b[39;00m \u001b[38;5;28menumerate\u001b[39m(log)]\n\u001b[0;32m     13\u001b[0m     case_durs \u001b[38;5;241m=\u001b[39m \u001b[38;5;28mlist\u001b[39m(\u001b[38;5;28mzip\u001b[39m(case_ids, durations))\n\u001b[0;32m     15\u001b[0m \u001b[38;5;66;03m# 4. Ordena por duração (descendente)\u001b[39;00m\n",
      "\u001b[1;31mAttributeError\u001b[0m: 'str' object has no attribute 'attributes'"
     ]
    }
   ],
   "source": [
    "# 5. Duração de casos\n",
    "durations = get_all_case_durations(log)   # dict: case_id → duração em segundos\n",
    "\n",
    "print(f\"→ Duração (s): min={min(durations):.0f}, max={max(durations):.0f}, \"\n",
    "      f\"média={sum(durations)/len(durations):.0f}\")\n",
    "\n",
    "\n",
    "# 3. Normaliza para lista de tuplas (case_id, duration)\n",
    "if durations and isinstance(durations[0], tuple):\n",
    "    case_durs = durations\n",
    "else:\n",
    "    # extrai os IDs dos traces (assume atributo 'concept:name')\n",
    "    case_ids = [trace.attributes.get(\"concept:name\", f\"trace_{i}\") \n",
    "                for i, trace in enumerate(log)]\n",
    "    case_durs = list(zip(case_ids, durations))\n",
    "\n",
    "# 4. Ordena por duração (descendente)\n",
    "case_durs_sorted = sorted(case_durs, key=lambda x: x[1], reverse=True)\n",
    "\n",
    "# 5. Exibe o Top-5 (ou outro N à sua escolha)\n",
    "print(\"Top-5 casos mais longos:\")\n",
    "for case_id, dur in case_durs_sorted[:5]:\n",
    "    horas = dur / 3600\n",
    "    print(f\"  • Caso {case_id}: {dur:.0f} s ({horas:.2f} h)\")"
   ]
  },
  {
   "cell_type": "code",
   "execution_count": 18,
   "id": "784a657d",
   "metadata": {},
   "outputs": [
    {
     "ename": "TypeError",
     "evalue": "string indices must be integers, not 'str'",
     "output_type": "error",
     "traceback": [
      "\u001b[1;31m---------------------------------------------------------------------------\u001b[0m",
      "\u001b[1;31mTypeError\u001b[0m                                 Traceback (most recent call last)",
      "Cell \u001b[1;32mIn[18], line 6\u001b[0m\n\u001b[0;32m      4\u001b[0m \u001b[38;5;66;03m# 2. Descobre o DFG de frequência\u001b[39;00m\n\u001b[0;32m      5\u001b[0m dfg_freq, start_act, end_act \u001b[38;5;241m=\u001b[39m discover_dfg(log)\n\u001b[1;32m----> 6\u001b[0m gviz_freq \u001b[38;5;241m=\u001b[39m dfg_vis\u001b[38;5;241m.\u001b[39mapply(\n\u001b[0;32m      7\u001b[0m     dfg_freq,\n\u001b[0;32m      8\u001b[0m     start_act,\n\u001b[0;32m      9\u001b[0m     end_act,\n\u001b[0;32m     10\u001b[0m     parameters\u001b[38;5;241m=\u001b[39m{\n\u001b[0;32m     11\u001b[0m         \u001b[38;5;66;03m# opcional: você pode ajustar cores, formatos, etc.\u001b[39;00m\n\u001b[0;32m     12\u001b[0m         dfg_vis\u001b[38;5;241m.\u001b[39mVariants\u001b[38;5;241m.\u001b[39mFREQUENCY\u001b[38;5;241m.\u001b[39mvalue\u001b[38;5;241m.\u001b[39mParameters\u001b[38;5;241m.\u001b[39mFORMAT: \u001b[38;5;124m\"\u001b[39m\u001b[38;5;124mpng\u001b[39m\u001b[38;5;124m\"\u001b[39m\n\u001b[0;32m     13\u001b[0m     }\n\u001b[0;32m     14\u001b[0m )\n\u001b[0;32m     15\u001b[0m dfg_vis\u001b[38;5;241m.\u001b[39mview(gviz_freq)\n",
      "File \u001b[1;32mc:\\Users\\clovi\\anaconda3\\Lib\\site-packages\\pm4py\\visualization\\dfg\\visualizer.py:70\u001b[0m, in \u001b[0;36mapply\u001b[1;34m(dfg0, log, activities_count, serv_time, parameters, variant)\u001b[0m\n\u001b[0;32m     44\u001b[0m \u001b[38;5;250m\u001b[39m\u001b[38;5;124;03m\"\"\"\u001b[39;00m\n\u001b[0;32m     45\u001b[0m \u001b[38;5;124;03mVisualize a frequency/performance directly-follows graph\u001b[39;00m\n\u001b[0;32m     46\u001b[0m \n\u001b[1;32m   (...)\u001b[0m\n\u001b[0;32m     67\u001b[0m \u001b[38;5;124;03m    Graphviz digraph\u001b[39;00m\n\u001b[0;32m     68\u001b[0m \u001b[38;5;124;03m\"\"\"\u001b[39;00m\n\u001b[0;32m     69\u001b[0m dfg \u001b[38;5;241m=\u001b[39m deepcopy(dfg0)\n\u001b[1;32m---> 70\u001b[0m \u001b[38;5;28;01mreturn\u001b[39;00m exec_utils\u001b[38;5;241m.\u001b[39mget_variant(variant)\u001b[38;5;241m.\u001b[39mapply(dfg, log\u001b[38;5;241m=\u001b[39mlog, activities_count\u001b[38;5;241m=\u001b[39mactivities_count, serv_time\u001b[38;5;241m=\u001b[39mserv_time, parameters\u001b[38;5;241m=\u001b[39mparameters)\n",
      "File \u001b[1;32mc:\\Users\\clovi\\anaconda3\\Lib\\site-packages\\pm4py\\visualization\\dfg\\variants\\frequency.py:112\u001b[0m, in \u001b[0;36mapply\u001b[1;34m(dfg, log, parameters, activities_count, serv_time)\u001b[0m\n\u001b[0;32m    110\u001b[0m \u001b[38;5;28;01mif\u001b[39;00m serv_time \u001b[38;5;129;01mis\u001b[39;00m \u001b[38;5;28;01mNone\u001b[39;00m:\n\u001b[0;32m    111\u001b[0m     \u001b[38;5;28;01mif\u001b[39;00m log \u001b[38;5;129;01mis\u001b[39;00m \u001b[38;5;129;01mnot\u001b[39;00m \u001b[38;5;28;01mNone\u001b[39;00m:\n\u001b[1;32m--> 112\u001b[0m         serv_time \u001b[38;5;241m=\u001b[39m serv_time_get\u001b[38;5;241m.\u001b[39mapply(log, parameters\u001b[38;5;241m=\u001b[39mparameters)\n\u001b[0;32m    113\u001b[0m     \u001b[38;5;28;01melse\u001b[39;00m:\n\u001b[0;32m    114\u001b[0m         serv_time \u001b[38;5;241m=\u001b[39m {key: \u001b[38;5;241m0\u001b[39m \u001b[38;5;28;01mfor\u001b[39;00m key \u001b[38;5;129;01min\u001b[39;00m activities}\n",
      "File \u001b[1;32mc:\\Users\\clovi\\anaconda3\\Lib\\site-packages\\pm4py\\statistics\\service_time\\log\\get.py:96\u001b[0m, in \u001b[0;36mapply\u001b[1;34m(log, parameters)\u001b[0m\n\u001b[0;32m     92\u001b[0m aggregation_measure \u001b[38;5;241m=\u001b[39m exec_utils\u001b[38;5;241m.\u001b[39mget_param_value(Parameters\u001b[38;5;241m.\u001b[39mAGGREGATION_MEASURE,\n\u001b[0;32m     93\u001b[0m                                                  parameters, \u001b[38;5;124m\"\u001b[39m\u001b[38;5;124mmean\u001b[39m\u001b[38;5;124m\"\u001b[39m)\n\u001b[0;32m     95\u001b[0m durations_dict \u001b[38;5;241m=\u001b[39m {}\n\u001b[1;32m---> 96\u001b[0m activities \u001b[38;5;241m=\u001b[39m [ev[activity_key] \u001b[38;5;28;01mfor\u001b[39;00m trace \u001b[38;5;129;01min\u001b[39;00m log \u001b[38;5;28;01mfor\u001b[39;00m ev \u001b[38;5;129;01min\u001b[39;00m trace]\n\u001b[0;32m     97\u001b[0m \u001b[38;5;28;01mfor\u001b[39;00m act \u001b[38;5;129;01min\u001b[39;00m activities:\n\u001b[0;32m     98\u001b[0m     durations_dict[act] \u001b[38;5;241m=\u001b[39m []\n",
      "File \u001b[1;32mc:\\Users\\clovi\\anaconda3\\Lib\\site-packages\\pm4py\\statistics\\service_time\\log\\get.py:96\u001b[0m, in \u001b[0;36m<listcomp>\u001b[1;34m(.0)\u001b[0m\n\u001b[0;32m     92\u001b[0m aggregation_measure \u001b[38;5;241m=\u001b[39m exec_utils\u001b[38;5;241m.\u001b[39mget_param_value(Parameters\u001b[38;5;241m.\u001b[39mAGGREGATION_MEASURE,\n\u001b[0;32m     93\u001b[0m                                                  parameters, \u001b[38;5;124m\"\u001b[39m\u001b[38;5;124mmean\u001b[39m\u001b[38;5;124m\"\u001b[39m)\n\u001b[0;32m     95\u001b[0m durations_dict \u001b[38;5;241m=\u001b[39m {}\n\u001b[1;32m---> 96\u001b[0m activities \u001b[38;5;241m=\u001b[39m [ev[activity_key] \u001b[38;5;28;01mfor\u001b[39;00m trace \u001b[38;5;129;01min\u001b[39;00m log \u001b[38;5;28;01mfor\u001b[39;00m ev \u001b[38;5;129;01min\u001b[39;00m trace]\n\u001b[0;32m     97\u001b[0m \u001b[38;5;28;01mfor\u001b[39;00m act \u001b[38;5;129;01min\u001b[39;00m activities:\n\u001b[0;32m     98\u001b[0m     durations_dict[act] \u001b[38;5;241m=\u001b[39m []\n",
      "\u001b[1;31mTypeError\u001b[0m: string indices must be integers, not 'str'"
     ]
    }
   ],
   "source": [
    "\n",
    "from pm4py.discovery import discover_performance_dfg, discover_dfg\n",
    "from pm4py.visualization.dfg import visualizer as dfg_vis\n",
    "\n",
    "# 2. Descobre o DFG de frequência\n",
    "dfg_freq, start_act, end_act = discover_dfg(log)\n",
    "gviz_freq = dfg_vis.apply(\n",
    "    dfg_freq,\n",
    "    start_act,\n",
    "    end_act,\n",
    "    parameters={\n",
    "        # opcional: você pode ajustar cores, formatos, etc.\n",
    "        dfg_vis.Variants.FREQUENCY.value.Parameters.FORMAT: \"png\"\n",
    "    }\n",
    ")\n",
    "dfg_vis.view(gviz_freq) "
   ]
  },
  {
   "cell_type": "code",
   "execution_count": 20,
   "id": "f74b1be0",
   "metadata": {},
   "outputs": [
    {
     "name": "stderr",
     "output_type": "stream",
     "text": [
      "Warning: Could not load \"C:\\Users\\clovi\\anaconda3\\Library\\bin\\gvplugin_pango.dll\" - It was found, so perhaps one of its dependents was not.  Try ldd.\n",
      "Warning: Could not load \"C:\\Users\\clovi\\anaconda3\\Library\\bin\\gvplugin_pango.dll\" - It was found, so perhaps one of its dependents was not.  Try ldd.\n",
      "Warning: Could not load \"C:\\Users\\clovi\\anaconda3\\Library\\bin\\gvplugin_pango.dll\" - It was found, so perhaps one of its dependents was not.  Try ldd.\n",
      "Warning: no value for width of non-ASCII character 226. Falling back to width of space character\n",
      "Warning: Could not load \"C:\\Users\\clovi\\anaconda3\\Library\\bin\\gvplugin_pango.dll\" - It was found, so perhaps one of its dependents was not.  Try ldd.\n",
      "Warning: Could not load \"C:\\Users\\clovi\\anaconda3\\Library\\bin\\gvplugin_pango.dll\" - It was found, so perhaps one of its dependents was not.  Try ldd.\n"
     ]
    },
    {
     "data": {
      "image/png": "[encoded data removed]",
      "text/plain": [
       "<IPython.core.display.Image object>"
      ]
     },
     "metadata": {},
     "output_type": "display_data"
    }
   ],
   "source": [
    "# 1) Grafo de frequência\n",
    "dfg_freq, start_act, end_act = discover_dfg(log)\n",
    "\n",
    "params_freq = {\n",
    "    # formato de saída\n",
    "    dfg_vis.Variants.FREQUENCY.value.Parameters.FORMAT: \"png\",\n",
    "    # passa explicitamente os starts/ends (opcional: o visualizador já extrai do log por padrão)\n",
    "    dfg_vis.Variants.FREQUENCY.value.Parameters.START_ACTIVITIES: start_act,\n",
    "    dfg_vis.Variants.FREQUENCY.value.Parameters.END_ACTIVITIES: end_act\n",
    "}\n",
    "\n",
    "gviz_freq = dfg_vis.apply(\n",
    "    dfg_freq,\n",
    "    log=log,                      # seu log, para o visualizador poder contar atividades\n",
    "    parameters=params_freq,\n",
    "    variant=dfg_vis.Variants.FREQUENCY\n",
    ")\n",
    "dfg_vis.view(gviz_freq)"
   ]
  },
  {
   "cell_type": "code",
   "execution_count": 21,
   "id": "d4f847ad",
   "metadata": {},
   "outputs": [
    {
     "name": "stderr",
     "output_type": "stream",
     "text": [
      "Warning: Could not load \"C:\\Users\\clovi\\anaconda3\\Library\\bin\\gvplugin_pango.dll\" - It was found, so perhaps one of its dependents was not.  Try ldd.\n",
      "Warning: no value for width of non-ASCII character 226. Falling back to width of space character\n"
     ]
    },
    {
     "data": {
      "image/svg+xml": [
       "<?xml version=\"1.0\" encoding=\"UTF-8\" standalone=\"no\"?>\n",
       "<!DOCTYPE svg PUBLIC \"-//W3C//DTD SVG 1.1//EN\"\n",
       " \"http://www.w3.org/Graphics/SVG/1.1/DTD/svg11.dtd\">\n",
       "<!-- Generated by graphviz version 4.0.0 (0)\n",
       " -->\n",
       "<!-- Pages: 1 -->\n",
       "<svg width=\"1312pt\" height=\"96pt\"\n",
       " viewBox=\"0.00 0.00 1311.70 96.32\" xmlns=\"http://www.w3.org/2000/svg\" xmlns:xlink=\"http://www.w3.org/1999/xlink\">\n",
       "<g id=\"graph0\" class=\"graph\" transform=\"scale(1 1) rotate(0) translate(4 92.32)\">\n",
       "<polygon fill=\"white\" stroke=\"transparent\" points=\"-4,4 -4,-92.32 1307.7,-92.32 1307.7,4 -4,4\"/>\n",
       "<!-- &#45;1711367537605855247 -->\n",
       "<g id=\"node1\" class=\"node\">\n",
       "<title>&#45;1711367537605855247</title>\n",
       "<polygon fill=\"#b4b4ff\" stroke=\"black\" points=\"216.44,-52.51 110.87,-52.51 110.87,-16.51 216.44,-16.51 216.44,-52.51\"/>\n",
       "<text text-anchor=\"middle\" x=\"163.66\" y=\"-30.91\" font-family=\"Times New Roman,serif\" font-size=\"12.00\">Receive Ticket (5)</text>\n",
       "</g>\n",
       "<!-- &#45;8024425153713739291 -->\n",
       "<g id=\"node2\" class=\"node\">\n",
       "<title>&#45;8024425153713739291</title>\n",
       "<polygon fill=\"#b4b4ff\" stroke=\"black\" points=\"356.23,-52.51 258.32,-52.51 258.32,-16.51 356.23,-16.51 356.23,-52.51\"/>\n",
       "<text text-anchor=\"middle\" x=\"307.28\" y=\"-30.91\" font-family=\"Times New Roman,serif\" font-size=\"12.00\">Triage Ticket (5)</text>\n",
       "</g>\n",
       "<!-- &#45;1711367537605855247&#45;&gt;&#45;8024425153713739291 -->\n",
       "<g id=\"edge1\" class=\"edge\">\n",
       "<title>&#45;1711367537605855247&#45;&gt;&#45;8024425153713739291</title>\n",
       "<path fill=\"none\" stroke=\"black\" stroke-width=\"2.6\" d=\"M216.59,-34.51C226.77,-34.51 237.52,-34.51 247.89,-34.51\"/>\n",
       "<polygon fill=\"black\" stroke=\"black\" stroke-width=\"2.6\" points=\"248.11,-38.01 258.11,-34.51 248.11,-31.01 248.11,-38.01\"/>\n",
       "<text text-anchor=\"middle\" x=\"237.3\" y=\"-38.11\" font-family=\"Times New Roman,serif\" font-size=\"12.00\">5</text>\n",
       "</g>\n",
       "<!-- &#45;5635811071886174014 -->\n",
       "<g id=\"node3\" class=\"node\">\n",
       "<title>&#45;5635811071886174014</title>\n",
       "<polygon fill=\"#b4b4ff\" stroke=\"black\" points=\"549.71,-52.51 398.1,-52.51 398.1,-16.51 549.71,-16.51 549.71,-52.51\"/>\n",
       "<text text-anchor=\"middle\" x=\"473.91\" y=\"-30.91\" font-family=\"Times New Roman,serif\" font-size=\"12.00\">Assign to Level&#45;1 Agent (5)</text>\n",
       "</g>\n",
       "<!-- &#45;8024425153713739291&#45;&gt;&#45;5635811071886174014 -->\n",
       "<g id=\"edge2\" class=\"edge\">\n",
       "<title>&#45;8024425153713739291&#45;&gt;&#45;5635811071886174014</title>\n",
       "<path fill=\"none\" stroke=\"black\" stroke-width=\"2.6\" d=\"M356.34,-34.51C366.36,-34.51 377.22,-34.51 388.13,-34.51\"/>\n",
       "<polygon fill=\"black\" stroke=\"black\" stroke-width=\"2.6\" points=\"388.14,-38.01 398.14,-34.51 388.14,-31.01 388.14,-38.01\"/>\n",
       "<text text-anchor=\"middle\" x=\"377.25\" y=\"-38.11\" font-family=\"Times New Roman,serif\" font-size=\"12.00\">5</text>\n",
       "</g>\n",
       "<!-- 695912816861908787 -->\n",
       "<g id=\"node4\" class=\"node\">\n",
       "<title>695912816861908787</title>\n",
       "<polygon fill=\"#ffffff\" stroke=\"black\" points=\"749.46,-86.51 591.59,-86.51 591.59,-50.51 749.46,-50.51 749.46,-86.51\"/>\n",
       "<text text-anchor=\"middle\" x=\"670.53\" y=\"-64.91\" font-family=\"Times New Roman,serif\" font-size=\"12.00\">Escalate to Level&#45;2 Agent (2)</text>\n",
       "</g>\n",
       "<!-- &#45;5635811071886174014&#45;&gt;695912816861908787 -->\n",
       "<g id=\"edge3\" class=\"edge\">\n",
       "<title>&#45;5635811071886174014&#45;&gt;695912816861908787</title>\n",
       "<path fill=\"none\" stroke=\"black\" d=\"M549.6,-47.55C559.99,-49.37 570.76,-51.25 581.37,-53.11\"/>\n",
       "<polygon fill=\"black\" stroke=\"black\" points=\"581.04,-56.6 591.49,-54.87 582.24,-49.7 581.04,-56.6\"/>\n",
       "<text text-anchor=\"middle\" x=\"570.56\" y=\"-55.11\" font-family=\"Times New Roman,serif\" font-size=\"12.00\">1</text>\n",
       "</g>\n",
       "<!-- &#45;5653352734007246894 -->\n",
       "<g id=\"node5\" class=\"node\">\n",
       "<title>&#45;5653352734007246894</title>\n",
       "<polygon fill=\"#9b9bff\" stroke=\"black\" points=\"904.95,-69.51 791.35,-69.51 791.35,-33.51 904.95,-33.51 904.95,-69.51\"/>\n",
       "<text text-anchor=\"middle\" x=\"848.15\" y=\"-47.91\" font-family=\"Times New Roman,serif\" font-size=\"12.00\">Investigate Issue (6)</text>\n",
       "</g>\n",
       "<!-- &#45;5635811071886174014&#45;&gt;&#45;5653352734007246894 -->\n",
       "<g id=\"edge4\" class=\"edge\">\n",
       "<title>&#45;5635811071886174014&#45;&gt;&#45;5653352734007246894</title>\n",
       "<path fill=\"none\" stroke=\"black\" stroke-width=\"2.2\" d=\"M549.78,-26.49C605.15,-22.02 682.28,-18.84 749.5,-27.11 759.88,-28.38 770.75,-30.4 781.3,-32.74\"/>\n",
       "<polygon fill=\"black\" stroke=\"black\" stroke-width=\"2.2\" points=\"780.77,-36.21 791.3,-35.06 782.36,-29.39 780.77,-36.21\"/>\n",
       "<text text-anchor=\"middle\" x=\"670.53\" y=\"-31.11\" font-family=\"Times New Roman,serif\" font-size=\"12.00\">4</text>\n",
       "</g>\n",
       "<!-- 695912816861908787&#45;&gt;&#45;5653352734007246894 -->\n",
       "<g id=\"edge5\" class=\"edge\">\n",
       "<title>695912816861908787&#45;&gt;&#45;5653352734007246894</title>\n",
       "<path fill=\"none\" stroke=\"black\" stroke-width=\"1.4\" d=\"M749.56,-68.43C757.66,-67.99 765.75,-67.36 773.5,-66.51 776.05,-66.22 778.65,-65.9 781.26,-65.53\"/>\n",
       "<polygon fill=\"black\" stroke=\"black\" stroke-width=\"1.4\" points=\"782.07,-68.95 791.42,-63.96 781,-62.03 782.07,-68.95\"/>\n",
       "<text text-anchor=\"middle\" x=\"770.5\" y=\"-70.11\" font-family=\"Times New Roman,serif\" font-size=\"12.00\">2</text>\n",
       "</g>\n",
       "<!-- &#45;5653352734007246894&#45;&gt;695912816861908787 -->\n",
       "<g id=\"edge6\" class=\"edge\">\n",
       "<title>&#45;5653352734007246894&#45;&gt;695912816861908787</title>\n",
       "<path fill=\"none\" stroke=\"black\" d=\"M791.26,-48.66C785.26,-48.43 779.25,-48.24 773.5,-48.11 765.97,-47.93 758.18,-48.36 750.43,-49.19\"/>\n",
       "<polygon fill=\"black\" stroke=\"black\" points=\"749.74,-45.75 740.27,-50.5 750.64,-52.69 749.74,-45.75\"/>\n",
       "<text text-anchor=\"middle\" x=\"770.5\" y=\"-51.11\" font-family=\"Times New Roman,serif\" font-size=\"12.00\">1</text>\n",
       "</g>\n",
       "<!-- 4188428837871132583 -->\n",
       "<g id=\"node6\" class=\"node\">\n",
       "<title>4188428837871132583</title>\n",
       "<polygon fill=\"#b4b4ff\" stroke=\"black\" points=\"1052.25,-69.51 946.65,-69.51 946.65,-33.51 1052.25,-33.51 1052.25,-69.51\"/>\n",
       "<text text-anchor=\"middle\" x=\"999.45\" y=\"-47.91\" font-family=\"Times New Roman,serif\" font-size=\"12.00\">Resolve Ticket (5)</text>\n",
       "</g>\n",
       "<!-- &#45;5653352734007246894&#45;&gt;4188428837871132583 -->\n",
       "<g id=\"edge7\" class=\"edge\">\n",
       "<title>&#45;5653352734007246894&#45;&gt;4188428837871132583</title>\n",
       "<path fill=\"none\" stroke=\"black\" stroke-width=\"2.6\" d=\"M905.17,-51.51C915.34,-51.51 926.01,-51.51 936.35,-51.51\"/>\n",
       "<polygon fill=\"black\" stroke=\"black\" stroke-width=\"2.6\" points=\"936.55,-55.01 946.55,-51.51 936.55,-48.01 936.55,-55.01\"/>\n",
       "<text text-anchor=\"middle\" x=\"925.8\" y=\"-55.11\" font-family=\"Times New Roman,serif\" font-size=\"12.00\">5</text>\n",
       "</g>\n",
       "<!-- &#45;1641019724333414235 -->\n",
       "<g id=\"node7\" class=\"node\">\n",
       "<title>&#45;1641019724333414235</title>\n",
       "<polygon fill=\"#b4b4ff\" stroke=\"black\" points=\"1188.06,-69.51 1094.11,-69.51 1094.11,-33.51 1188.06,-33.51 1188.06,-69.51\"/>\n",
       "<text text-anchor=\"middle\" x=\"1141.09\" y=\"-47.91\" font-family=\"Times New Roman,serif\" font-size=\"12.00\">Close Ticket (5)</text>\n",
       "</g>\n",
       "<!-- 4188428837871132583&#45;&gt;&#45;1641019724333414235 -->\n",
       "<g id=\"edge8\" class=\"edge\">\n",
       "<title>4188428837871132583&#45;&gt;&#45;1641019724333414235</title>\n",
       "<path fill=\"none\" stroke=\"black\" stroke-width=\"2.6\" d=\"M1052.44,-51.51C1062.68,-51.51 1073.46,-51.51 1083.83,-51.51\"/>\n",
       "<polygon fill=\"black\" stroke=\"black\" stroke-width=\"2.6\" points=\"1084.03,-55.01 1094.03,-51.51 1084.03,-48.01 1084.03,-55.01\"/>\n",
       "<text text-anchor=\"middle\" x=\"1073.1\" y=\"-55.11\" font-family=\"Times New Roman,serif\" font-size=\"12.00\">5</text>\n",
       "</g>\n",
       "<!-- @@endnode -->\n",
       "<g id=\"node9\" class=\"node\">\n",
       "<title>@@endnode</title>\n",
       "<ellipse fill=\"none\" stroke=\"black\" cx=\"1266.89\" cy=\"-51.51\" rx=\"32.64\" ry=\"32.64\"/>\n",
       "<ellipse fill=\"none\" stroke=\"black\" cx=\"1266.89\" cy=\"-51.51\" rx=\"36.62\" ry=\"36.62\"/>\n",
       "<text text-anchor=\"start\" x=\"1254.89\" y=\"-41.91\" font-family=\"Times New Roman,serif\" font-size=\"32.00\">■</text>\n",
       "</g>\n",
       "<!-- &#45;1641019724333414235&#45;&gt;@@endnode -->\n",
       "<g id=\"edge10\" class=\"edge\">\n",
       "<title>&#45;1641019724333414235&#45;&gt;@@endnode</title>\n",
       "<path fill=\"none\" stroke=\"black\" stroke-width=\"2.6\" d=\"M1188.19,-51.51C1198.5,-51.51 1209.44,-51.51 1219.75,-51.51\"/>\n",
       "<polygon fill=\"black\" stroke=\"black\" stroke-width=\"2.6\" points=\"1219.81,-55.01 1229.81,-51.51 1219.81,-48.01 1219.81,-55.01\"/>\n",
       "<text text-anchor=\"middle\" x=\"1209.08\" y=\"-55.11\" font-family=\"Times New Roman,serif\" font-size=\"12.00\">5</text>\n",
       "</g>\n",
       "<!-- @@startnode -->\n",
       "<g id=\"node8\" class=\"node\">\n",
       "<title>@@startnode</title>\n",
       "<ellipse fill=\"none\" stroke=\"black\" cx=\"34.51\" cy=\"-34.51\" rx=\"34.51\" ry=\"34.51\"/>\n",
       "<text text-anchor=\"start\" x=\"21.76\" y=\"-24.31\" font-family=\"Times New Roman,serif\" font-size=\"34.00\">●</text>\n",
       "</g>\n",
       "<!-- @@startnode&#45;&gt;&#45;1711367537605855247 -->\n",
       "<g id=\"edge9\" class=\"edge\">\n",
       "<title>@@startnode&#45;&gt;&#45;1711367537605855247</title>\n",
       "<path fill=\"none\" stroke=\"black\" stroke-width=\"2.6\" d=\"M69.25,-34.51C78.84,-34.51 89.6,-34.51 100.31,-34.51\"/>\n",
       "<polygon fill=\"black\" stroke=\"black\" stroke-width=\"2.6\" points=\"100.53,-38.01 110.53,-34.51 100.53,-31.01 100.53,-38.01\"/>\n",
       "<text text-anchor=\"middle\" x=\"90.01\" y=\"-38.11\" font-family=\"Times New Roman,serif\" font-size=\"12.00\">5</text>\n",
       "</g>\n",
       "</g>\n",
       "</svg>\n"
      ],
      "text/plain": [
       "<graphviz.graphs.Digraph at 0x28a8e4dd7d0>"
      ]
     },
     "execution_count": 21,
     "metadata": {},
     "output_type": "execute_result"
    }
   ],
   "source": [
    "gviz_freq"
   ]
  },
  {
   "cell_type": "code",
   "execution_count": 23,
   "id": "a564e449",
   "metadata": {},
   "outputs": [
    {
     "data": {
      "text/plain": [
       "{<Parameters.FORMAT: 'format'>: 'png',\n",
       " <Parameters.START_ACTIVITIES: 'start_activities'>: {'Receive Ticket': 5},\n",
       " <Parameters.END_ACTIVITIES: 'end_activities'>: {'Close Ticket': 5}}"
      ]
     },
     "execution_count": 23,
     "metadata": {},
     "output_type": "execute_result"
    }
   ],
   "source": [
    "params_freq"
   ]
  },
  {
   "cell_type": "code",
   "execution_count": null,
   "id": "019830f7",
   "metadata": {},
   "outputs": [],
   "source": [
    "import pm4py\n",
    "\n",
    "# 1) Importar e ler o log XES\n",
    "from pm4py.objects.log.importer.xes import factory as xes_importer\n",
    "log = xes_importer.apply(\"path/to/log.xes\")"
   ]
  },
  {
   "cell_type": "code",
   "execution_count": 37,
   "id": "720aa8f9",
   "metadata": {},
   "outputs": [],
   "source": [
    "from pm4py.conformance import (\n",
    "    fitness_alignments,\n",
    "    precision_alignments,\n",
    "    fitness_footprints,\n",
    "    precision_footprints\n",
    ")"
   ]
  },
  {
   "cell_type": "code",
   "execution_count": 44,
   "id": "215b6eb8",
   "metadata": {},
   "outputs": [
    {
     "ename": "ImportError",
     "evalue": "cannot import name 'factory' from 'pm4py.objects.log.importer.xes' (c:\\Users\\clovi\\anaconda3\\Lib\\site-packages\\pm4py\\objects\\log\\importer\\xes\\__init__.py)",
     "output_type": "error",
     "traceback": [
      "\u001b[1;31m---------------------------------------------------------------------------\u001b[0m",
      "\u001b[1;31mImportError\u001b[0m                               Traceback (most recent call last)",
      "Cell \u001b[1;32mIn[44], line 1\u001b[0m\n\u001b[1;32m----> 1\u001b[0m \u001b[38;5;28;01mfrom\u001b[39;00m\u001b[38;5;250m \u001b[39m\u001b[38;5;21;01mpm4py\u001b[39;00m\u001b[38;5;21;01m.\u001b[39;00m\u001b[38;5;21;01mobjects\u001b[39;00m\u001b[38;5;21;01m.\u001b[39;00m\u001b[38;5;21;01mlog\u001b[39;00m\u001b[38;5;21;01m.\u001b[39;00m\u001b[38;5;21;01mimporter\u001b[39;00m\u001b[38;5;21;01m.\u001b[39;00m\u001b[38;5;21;01mxes\u001b[39;00m\u001b[38;5;250m \u001b[39m\u001b[38;5;28;01mimport\u001b[39;00m factory \u001b[38;5;28;01mas\u001b[39;00m xes_importer\n\u001b[0;32m      2\u001b[0m \u001b[38;5;28;01mfrom\u001b[39;00m\u001b[38;5;250m \u001b[39m\u001b[38;5;21;01mpm4py\u001b[39;00m\u001b[38;5;21;01m.\u001b[39;00m\u001b[38;5;21;01mobjects\u001b[39;00m\u001b[38;5;21;01m.\u001b[39;00m\u001b[38;5;21;01mconversion\u001b[39;00m\u001b[38;5;21;01m.\u001b[39;00m\u001b[38;5;21;01mlog\u001b[39;00m\u001b[38;5;250m \u001b[39m\u001b[38;5;28;01mimport\u001b[39;00m factory \u001b[38;5;28;01mas\u001b[39;00m log_converter\n\u001b[0;32m      3\u001b[0m \u001b[38;5;28;01mimport\u001b[39;00m\u001b[38;5;250m \u001b[39m\u001b[38;5;21;01mpandas\u001b[39;00m\u001b[38;5;250m \u001b[39m\u001b[38;5;28;01mas\u001b[39;00m\u001b[38;5;250m \u001b[39m\u001b[38;5;21;01mpd\u001b[39;00m\n",
      "\u001b[1;31mImportError\u001b[0m: cannot import name 'factory' from 'pm4py.objects.log.importer.xes' (c:\\Users\\clovi\\anaconda3\\Lib\\site-packages\\pm4py\\objects\\log\\importer\\xes\\__init__.py)"
     ]
    }
   ],
   "source": [
    "from pm4py.objects.log.importer.xes import factory as xes_importer\n",
    "from pm4py.objects.conversion.log import factory as log_converter\n",
    "import pandas as pd"
   ]
  },
  {
   "cell_type": "code",
   "execution_count": 48,
   "id": "87db125a",
   "metadata": {},
   "outputs": [
    {
     "data": {
      "application/vnd.jupyter.widget-view+json": {
       "model_id": "679b241dc77b488f855ec8f76ea5d674",
       "version_major": 2,
       "version_minor": 0
      },
      "text/plain": [
       "aligning log, completed variants ::   0%|          | 0/3 [00:00<?, ?it/s]"
      ]
     },
     "metadata": {},
     "output_type": "display_data"
    },
    {
     "name": "stdout",
     "output_type": "stream",
     "text": [
      "Alignment-based fitness: {'percFitTraces': 100.0, 'averageFitness': 1.0, 'percentage_of_fitting_traces': 100.0, 'average_trace_fitness': 1.0, 'log_fitness': 0.9999920635550511}\n"
     ]
    },
    {
     "ename": "TypeError",
     "evalue": "'set' object is not subscriptable",
     "output_type": "error",
     "traceback": [
      "\u001b[1;31m---------------------------------------------------------------------------\u001b[0m",
      "\u001b[1;31mTypeError\u001b[0m                                 Traceback (most recent call last)",
      "Cell \u001b[1;32mIn[48], line 28\u001b[0m\n\u001b[0;32m     25\u001b[0m flat_fp_log   \u001b[38;5;241m=\u001b[39m fp_evaluation\u001b[38;5;241m.\u001b[39mflatten_fp(fp_log)\n\u001b[0;32m     26\u001b[0m flat_fp_model \u001b[38;5;241m=\u001b[39m fp_evaluation\u001b[38;5;241m.\u001b[39mflatten_fp(fp_model)\n\u001b[1;32m---> 28\u001b[0m fitness_fap   \u001b[38;5;241m=\u001b[39m fp_evaluation\u001b[38;5;241m.\u001b[39mfp_fitness(flat_fp_log, flat_fp_model, flat_conf)\n\u001b[0;32m     29\u001b[0m precision_fap \u001b[38;5;241m=\u001b[39m fp_evaluation\u001b[38;5;241m.\u001b[39mfp_precision(flat_fp_log, flat_fp_model)\n\u001b[0;32m     31\u001b[0m \u001b[38;5;28mprint\u001b[39m(\u001b[38;5;124m\"\u001b[39m\u001b[38;5;124mFootprint-based fitness:\u001b[39m\u001b[38;5;124m\"\u001b[39m, fitness_fap)\n",
      "File \u001b[1;32mc:\\Users\\clovi\\anaconda3\\Lib\\site-packages\\pm4py\\algo\\conformance\\footprints\\util\\evaluation.py:87\u001b[0m, in \u001b[0;36mfp_fitness\u001b[1;34m(fp_log, fp_model, conf_results, parameters)\u001b[0m\n\u001b[0;32m     85\u001b[0m num_start_activities_log \u001b[38;5;241m=\u001b[39m \u001b[38;5;28mlen\u001b[39m(fp_log[START_ACTIVITIES])\n\u001b[0;32m     86\u001b[0m num_end_activities_log \u001b[38;5;241m=\u001b[39m \u001b[38;5;28mlen\u001b[39m(fp_log[END_ACTIVITIES])\n\u001b[1;32m---> 87\u001b[0m num_start_activities_dev \u001b[38;5;241m=\u001b[39m \u001b[38;5;28mlen\u001b[39m(conf_results[START_ACTIVITIES])\n\u001b[0;32m     88\u001b[0m num_end_activities_dev \u001b[38;5;241m=\u001b[39m \u001b[38;5;28mlen\u001b[39m(conf_results[END_ACTIVITIES])\n\u001b[0;32m     89\u001b[0m footprints \u001b[38;5;241m=\u001b[39m conf_results[FOOTPRINTS_KEY]\n",
      "\u001b[1;31mTypeError\u001b[0m: 'set' object is not subscriptable"
     ]
    }
   ],
   "source": [
    "# 2) Descobre a Petri Net + marcações inicial/final\n",
    "#    (Inductive Miner interno faz o processo tree → net para você)\n",
    "net, initial_marking, final_marking = pm4py.discover_petri_net_inductive(log)  # :contentReference[oaicite:0]{index=0}\n",
    "\n",
    "\n",
    "# 3) Fitness por alinhamentos\n",
    "fitness_align = pm4py.fitness_alignments(log, net, initial_marking, final_marking)\n",
    "print(\"Alignment-based fitness:\", fitness_align)\n",
    "\n",
    "\n",
    "# 5) Fitness e precision via Footprints\n",
    "from pm4py.algo.discovery.footprints import algorithm as fp_discovery\n",
    "from pm4py.algo.conformance.footprints import algorithm as fp_conformance\n",
    "from pm4py.algo.conformance.footprints.util import evaluation as fp_evaluation\n",
    "\n",
    "# 5.1) Descobre footprints\n",
    "fp_log   = fp_discovery.apply(log, variant=fp_discovery.Variants.ENTIRE_EVENT_LOG)\n",
    "fp_model = fp_discovery.apply(net, initial_marking, final_marking)\n",
    "\n",
    "# 5.2) Conformance footprints\n",
    "conf = fp_conformance.apply(fp_log, fp_model)\n",
    "\n",
    "# 5.3) Achata e calcula métricas\n",
    "flat_conf     = fp_evaluation.flatten_conf(conf)\n",
    "flat_fp_log   = fp_evaluation.flatten_fp(fp_log)\n",
    "flat_fp_model = fp_evaluation.flatten_fp(fp_model)\n",
    "\n",
    "fitness_fap   = fp_evaluation.fp_fitness(flat_fp_log, flat_fp_model, flat_conf)\n",
    "precision_fap = fp_evaluation.fp_precision(flat_fp_log, flat_fp_model)\n",
    "\n",
    "print(\"Footprint-based fitness:\", fitness_fap)\n",
    "print(\"Footprint-based precision:\", precision_fap)"
   ]
  },
  {
   "cell_type": "code",
   "execution_count": 40,
   "id": "b7e59945",
   "metadata": {},
   "outputs": [
    {
     "name": "stderr",
     "output_type": "stream",
     "text": [
      "c:\\Users\\clovi\\anaconda3\\Lib\\site-packages\\pm4py\\statistics\\overlap\\__init__.py:28: UserWarning: The overlap package will be removed in a future release.\n",
      "  warnings.warn(\"The overlap package will be removed in a future release.\")\n"
     ]
    }
   ],
   "source": [
    "from pm4py.statistics.overlap.cases.log import get as case_overlap_get"
   ]
  },
  {
   "cell_type": "code",
   "execution_count": 50,
   "id": "a8549f58",
   "metadata": {},
   "outputs": [
    {
     "name": "stdout",
     "output_type": "stream",
     "text": [
      "[5, 5, 5, 5, 5]\n"
     ]
    }
   ],
   "source": [
    "wip = case_overlap_get.apply(log)\n",
    "print(wip)\n",
    "\n"
   ]
  },
  {
   "cell_type": "code",
   "execution_count": 46,
   "id": "927752cb",
   "metadata": {},
   "outputs": [
    {
     "name": "stdout",
     "output_type": "stream",
     "text": [
      "                 concept:name case:concept:name  duration_secs  mean_duration  \\\n",
      "18    Assign to Level-1 Agent               104        12600.0         5100.0   \n",
      "8   Escalate to Level-2 Agent               102         9000.0        54900.0   \n",
      "14          Investigate Issue               103         1800.0        35600.0   \n",
      "16             Receive Ticket               104         2400.0         1080.0   \n",
      "20             Resolve Ticket               104         1800.0         1260.0   \n",
      "1               Triage Ticket               101          600.0         1320.0   \n",
      "\n",
      "    abs_dev  \n",
      "18   7500.0  \n",
      "8   45900.0  \n",
      "14  33800.0  \n",
      "16   1320.0  \n",
      "20    540.0  \n",
      "1     720.0  \n"
     ]
    }
   ],
   "source": [
    "from pm4py.objects.conversion.log.variants.to_data_frame import apply as log_to_dataframe  # :contentReference[oaicite:0]{index=0}\n",
    "import pandas as pd\n",
    "\n",
    "# 2) Converte o EventLog em DataFrame\n",
    "df = log_to_dataframe(log)\n",
    "\n",
    "# 3) Calcula timestamp do próximo evento no mesmo caso\n",
    "df[\"next_timestamp\"] = df.groupby(\"case:concept:name\")[\"time:timestamp\"].shift(-1)\n",
    "\n",
    "# 4) Duração em segundos de cada ocorrência de atividade\n",
    "df[\"duration_secs\"] = (df[\"next_timestamp\"] - df[\"time:timestamp\"]).dt.total_seconds()\n",
    "\n",
    "# 5) Remove linhas sem duração (última atividade de cada caso)\n",
    "df = df.dropna(subset=[\"duration_secs\"])\n",
    "\n",
    "# 6) Calcula média de duração por atividade\n",
    "mean_dur = df.groupby(\"concept:name\")[\"duration_secs\"] \\\n",
    "             .mean() \\\n",
    "             .rename(\"mean_duration\") \\\n",
    "             .reset_index()\n",
    "\n",
    "# 7) Junta média no DataFrame e computa desvio absoluto\n",
    "df = df.merge(mean_dur, on=\"concept:name\")\n",
    "df[\"abs_dev\"] = (df[\"duration_secs\"] - df[\"mean_duration\"]).abs()\n",
    "\n",
    "# 8) Para cada atividade, encontra o idx do maior desvio\n",
    "idx_outliers = df.groupby(\"concept:name\")[\"abs_dev\"].idxmax()\n",
    "\n",
    "# 9) Extrai as linhas “outliers”\n",
    "outliers = df.loc[idx_outliers, [\n",
    "    \"concept:name\",       # atividade\n",
    "    \"case:concept:name\",  # case ID\n",
    "    \"duration_secs\",      # duração observada\n",
    "    \"mean_duration\",      # média da atividade\n",
    "    \"abs_dev\"             # desvio absoluto máximo\n",
    "]]\n",
    "\n",
    "print(outliers)"
   ]
  },
  {
   "cell_type": "code",
   "execution_count": null,
   "id": "1477adab",
   "metadata": {},
   "outputs": [
    {
     "name": "stderr",
     "output_type": "stream",
     "text": [
      "Warning: Could not load \"C:\\Users\\clovi\\anaconda3\\Library\\bin\\gvplugin_pango.dll\" - It was found, so perhaps one of its dependents was not.  Try ldd.\n",
      "Warning: Could not load \"C:\\Users\\clovi\\anaconda3\\Library\\bin\\gvplugin_pango.dll\" - It was found, so perhaps one of its dependents was not.  Try ldd.\n",
      "Warning: Could not load \"C:\\Users\\clovi\\anaconda3\\Library\\bin\\gvplugin_pango.dll\" - It was found, so perhaps one of its dependents was not.  Try ldd.\n",
      "Warning: no value for width of non-ASCII character 226. Falling back to width of space character\n",
      "Warning: Could not load \"C:\\Users\\clovi\\anaconda3\\Library\\bin\\gvplugin_pango.dll\" - It was found, so perhaps one of its dependents was not.  Try ldd.\n",
      "Warning: Could not load \"C:\\Users\\clovi\\anaconda3\\Library\\bin\\gvplugin_pango.dll\" - It was found, so perhaps one of its dependents was not.  Try ldd.\n"
     ]
    },
    {
     "data": {
      "image/png": "[encoded data removed]",
      "text/plain": [
       "<IPython.core.display.Image object>"
      ]
     },
     "metadata": {},
     "output_type": "display_data"
    }
   ],
   "source": [
    "\n",
    "from pm4py.visualization.dfg import visualizer as dfg_visualizer\n",
    "\n",
    "performance_dfg, start_activities, end_activities = pm4py.discover_performance_dfg(log)\n",
    "pm4py.view_performance_dfg(performance_dfg, start_activities, end_activities)"
   ]
  }
 ],
 "metadata": {
  "kernelspec": {
   "display_name": "base",
   "language": "python",
   "name": "python3"
  },
  "language_info": {
   "codemirror_mode": {
    "name": "ipython",
    "version": 3
   },
   "file_extension": ".py",
   "mimetype": "text/x-python",
   "name": "python",
   "nbconvert_exporter": "python",
   "pygments_lexer": "ipython3",
   "version": "3.11.13"
  }
 },
 "nbformat": 4,
 "nbformat_minor": 5
}
